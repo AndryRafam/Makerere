{
 "cells": [
  {
   "cell_type": "code",
   "execution_count": 1,
   "id": "eb1999f5",
   "metadata": {},
   "outputs": [],
   "source": [
    "import tensorflow as tf\n",
    "import pandas as pd\n",
    "import random\n",
    "\n",
    "from zipfile import ZipFile"
   ]
  },
  {
   "cell_type": "code",
   "execution_count": 2,
   "id": "8acf3259",
   "metadata": {},
   "outputs": [
    {
     "name": "stdout",
     "output_type": "stream",
     "text": [
      "          Image_ID            class   xmin   ymin  width  height\n",
      "0  ID_007FAIEI.jpg  fruit_woodiness   87.0   87.5  228.0   311.0\n",
      "1  ID_00G8K1V3.jpg  fruit_brownspot   97.5   17.5  245.0   354.5\n",
      "2  ID_00WROUT9.jpg  fruit_brownspot  156.5  209.5  248.0   302.5\n",
      "3  ID_00ZJEEK3.jpg    fruit_healthy  125.0  193.0  254.5   217.0\n",
      "4  ID_018UIENR.jpg  fruit_brownspot   79.5  232.5  233.5   182.0\n"
     ]
    }
   ],
   "source": [
    "random.seed(42)\n",
    "\n",
    "train_df = pd.read_csv(\"Train.csv\")\n",
    "test_df = pd.read_csv(\"Test.csv\")\n",
    "\n",
    "def addextension(nm):\n",
    "    return nm+\".jpg\"\n",
    "\n",
    "train_df[\"Image_ID\"] = train_df[\"Image_ID\"].apply(addextension)\n",
    "test_df[\"Image_ID\"] = test_df[\"Image_ID\"].apply(addextension)\n",
    "\n",
    "print(train_df.head())"
   ]
  },
  {
   "cell_type": "code",
   "execution_count": 3,
   "id": "49f17be0",
   "metadata": {},
   "outputs": [],
   "source": [
    "def unzip(nm):\n",
    "    with ZipFile(nm,\"r\") as zip:\n",
    "        zip.extractall()\n",
    "\n",
    "unzip(\"Train_Images.zip\")\n",
    "unzip(\"Test_Images.zip\")"
   ]
  },
  {
   "cell_type": "code",
   "execution_count": 4,
   "id": "b40de32f",
   "metadata": {},
   "outputs": [
    {
     "name": "stdout",
     "output_type": "stream",
     "text": [
      "Found 3125 validated image filenames belonging to 3 classes.\n",
      "Found 781 validated image filenames belonging to 3 classes.\n"
     ]
    }
   ],
   "source": [
    "from tensorflow.keras.preprocessing.image import ImageDataGenerator\n",
    "\n",
    "train_gen = ImageDataGenerator(\n",
    "    horizontal_flip = True,\n",
    "    rotation_range = 10,\n",
    "    zoom_range = 0.1,\n",
    "    validation_split = 0.2,\n",
    ")\n",
    "\n",
    "train_ds = train_gen.flow_from_dataframe(\n",
    "    directory = \"Train_Images\",\n",
    "    dataframe = train_df,\n",
    "    x_col = \"Image_ID\",\n",
    "    y_col = \"class\",\n",
    "    target_size = (256,256),\n",
    "    batch_size = 32,\n",
    "    class_mode = \"categorical\",\n",
    "    shuffle = True,\n",
    "    subset = \"training\",\n",
    ")\n",
    "\n",
    "val_ds = train_gen.flow_from_dataframe(\n",
    "    directory = \"Train_Images\",\n",
    "    dataframe = train_df,\n",
    "    x_col = \"Image_ID\",\n",
    "    y_col = \"class\",\n",
    "    target_size = (256,256),\n",
    "    batch_size = 32,\n",
    "    class_mode = \"categorical\",\n",
    "    shuffle = True,\n",
    "    subset = \"validation\",\n",
    ")"
   ]
  },
  {
   "cell_type": "code",
   "execution_count": 5,
   "id": "11336789",
   "metadata": {},
   "outputs": [
    {
     "name": "stdout",
     "output_type": "stream",
     "text": [
      "Model: \"model\"\n",
      "_________________________________________________________________\n",
      "Layer (type)                 Output Shape              Param #   \n",
      "=================================================================\n",
      "input_1 (InputLayer)         [(None, 256, 256, 3)]     0         \n",
      "_________________________________________________________________\n",
      "rescaling (Rescaling)        (None, 256, 256, 3)       0         \n",
      "_________________________________________________________________\n",
      "conv2d (Conv2D)              (None, 128, 128, 64)      1792      \n",
      "_________________________________________________________________\n",
      "max_pooling2d (MaxPooling2D) (None, 64, 64, 64)        0         \n",
      "_________________________________________________________________\n",
      "conv2d_1 (Conv2D)            (None, 32, 32, 128)       73856     \n",
      "_________________________________________________________________\n",
      "conv2d_2 (Conv2D)            (None, 16, 16, 128)       147584    \n",
      "_________________________________________________________________\n",
      "conv2d_3 (Conv2D)            (None, 8, 8, 256)         295168    \n",
      "_________________________________________________________________\n",
      "max_pooling2d_1 (MaxPooling2 (None, 4, 4, 256)         0         \n",
      "_________________________________________________________________\n",
      "flatten (Flatten)            (None, 4096)              0         \n",
      "_________________________________________________________________\n",
      "dense (Dense)                (None, 128)               524416    \n",
      "_________________________________________________________________\n",
      "dropout (Dropout)            (None, 128)               0         \n",
      "_________________________________________________________________\n",
      "dense_1 (Dense)              (None, 64)                8256      \n",
      "_________________________________________________________________\n",
      "dropout_1 (Dropout)          (None, 64)                0         \n",
      "_________________________________________________________________\n",
      "dense_2 (Dense)              (None, 3)                 195       \n",
      "=================================================================\n",
      "Total params: 1,051,267\n",
      "Trainable params: 1,051,267\n",
      "Non-trainable params: 0\n",
      "_________________________________________________________________\n"
     ]
    }
   ],
   "source": [
    "from tensorflow.keras import layers\n",
    "from tensorflow.keras import Model, Input\n",
    "\n",
    "def model(input):\n",
    "    x = layers.Rescaling(1./255)(input)\n",
    "    x = layers.Conv2D(64,3,activation=\"relu\",padding=\"same\",strides=(2,2))(x)\n",
    "    x = layers.MaxPooling2D()(x)\n",
    "    \n",
    "    x = layers.Conv2D(128,3,activation=\"relu\",padding=\"same\",strides=(2,2))(x)\n",
    "    x = layers.Conv2D(128,3,activation=\"relu\",padding=\"same\",strides=(2,2))(x)\n",
    "    x = layers.Conv2D(256,3,activation=\"relu\",padding=\"same\",strides=(2,2))(x)\n",
    "    x = layers.MaxPooling2D()(x)\n",
    "\n",
    "    x = layers.Flatten()(x)\n",
    "    x = layers.Dense(512,activation=\"relu\")(x)\n",
    "    x = layers.Dropout(0.2,seed=42)(x)\n",
    "    x = layers.Dense(512,activation=\"relu\")(x)\n",
    "    x = layers.Dropout(0.2,seed=42)(x)\n",
    "    output = layers.Dense(3,activation=\"softmax\")(x)\n",
    "    model = Model(input,output)\n",
    "    return model\n",
    "\n",
    "model = model(Input(shape=(256,256,3)))\n",
    "model.summary()\n",
    "model.compile(tf.keras.optimizers.RMSprop(),tf.keras.losses.CategoricalCrossentropy(),metrics=[\"accuracy\"])"
   ]
  },
  {
   "cell_type": "code",
   "execution_count": 6,
   "id": "546e8400",
   "metadata": {},
   "outputs": [
    {
     "name": "stdout",
     "output_type": "stream",
     "text": [
      "Epoch 1/20\n",
      "98/98 [==============================] - 48s 458ms/step - loss: 0.9913 - accuracy: 0.5309 - val_loss: 0.7422 - val_accuracy: 0.7157\n",
      "Epoch 2/20\n",
      "98/98 [==============================] - 40s 407ms/step - loss: 0.7625 - accuracy: 0.6781 - val_loss: 0.6664 - val_accuracy: 0.7042\n",
      "Epoch 3/20\n",
      "98/98 [==============================] - 40s 411ms/step - loss: 0.6386 - accuracy: 0.7181 - val_loss: 0.4853 - val_accuracy: 0.7951\n",
      "Epoch 4/20\n",
      "98/98 [==============================] - 41s 420ms/step - loss: 0.5645 - accuracy: 0.7578 - val_loss: 0.4733 - val_accuracy: 0.7926\n",
      "Epoch 5/20\n",
      "98/98 [==============================] - 43s 437ms/step - loss: 0.4959 - accuracy: 0.7907 - val_loss: 0.4742 - val_accuracy: 0.8015\n",
      "Epoch 6/20\n",
      "98/98 [==============================] - 44s 453ms/step - loss: 0.4258 - accuracy: 0.8275 - val_loss: 0.5075 - val_accuracy: 0.7798\n",
      "Epoch 7/20\n",
      "98/98 [==============================] - 41s 419ms/step - loss: 0.3913 - accuracy: 0.8483 - val_loss: 0.3381 - val_accuracy: 0.8720\n",
      "Epoch 8/20\n",
      "98/98 [==============================] - 39s 401ms/step - loss: 0.3580 - accuracy: 0.8656 - val_loss: 0.3209 - val_accuracy: 0.8732\n",
      "Epoch 9/20\n",
      "98/98 [==============================] - 40s 403ms/step - loss: 0.3392 - accuracy: 0.8746 - val_loss: 0.2872 - val_accuracy: 0.8937\n",
      "Epoch 10/20\n",
      "98/98 [==============================] - 40s 404ms/step - loss: 0.3059 - accuracy: 0.8880 - val_loss: 0.4526 - val_accuracy: 0.8041\n",
      "Epoch 11/20\n",
      "98/98 [==============================] - 39s 400ms/step - loss: 0.2974 - accuracy: 0.8998 - val_loss: 0.2920 - val_accuracy: 0.9065\n",
      "Epoch 12/20\n",
      "98/98 [==============================] - 41s 415ms/step - loss: 0.2551 - accuracy: 0.9062 - val_loss: 0.3114 - val_accuracy: 0.8860\n",
      "Epoch 13/20\n",
      "98/98 [==============================] - 40s 408ms/step - loss: 0.2595 - accuracy: 0.9069 - val_loss: 0.2425 - val_accuracy: 0.9257\n",
      "Epoch 14/20\n",
      "98/98 [==============================] - 40s 404ms/step - loss: 0.2453 - accuracy: 0.9123 - val_loss: 0.2367 - val_accuracy: 0.9219\n",
      "Epoch 15/20\n",
      "98/98 [==============================] - 40s 404ms/step - loss: 0.2364 - accuracy: 0.9235 - val_loss: 0.3037 - val_accuracy: 0.9052\n",
      "Epoch 16/20\n",
      "98/98 [==============================] - 39s 399ms/step - loss: 0.2047 - accuracy: 0.9251 - val_loss: 0.3794 - val_accuracy: 0.8809\n",
      "Epoch 17/20\n",
      "98/98 [==============================] - 39s 403ms/step - loss: 0.1951 - accuracy: 0.9344 - val_loss: 0.2217 - val_accuracy: 0.9398\n",
      "Epoch 18/20\n",
      "98/98 [==============================] - 40s 406ms/step - loss: 0.2075 - accuracy: 0.9309 - val_loss: 0.2295 - val_accuracy: 0.9296\n",
      "Epoch 19/20\n",
      "98/98 [==============================] - 41s 423ms/step - loss: 0.2125 - accuracy: 0.9274 - val_loss: 0.3855 - val_accuracy: 0.8643\n",
      "Epoch 20/20\n",
      "98/98 [==============================] - 40s 406ms/step - loss: 0.1770 - accuracy: 0.9427 - val_loss: 0.1896 - val_accuracy: 0.9462\n",
      "25/25 [==============================] - 9s 337ms/step - loss: 0.1962 - accuracy: 0.9373\n",
      "\n",
      "Val Accuracy: 93.73 %\n",
      "Val Loss: 19.62 %\n"
     ]
    }
   ],
   "source": [
    "if __name__==\"__main__\":\n",
    "    checkpoint = tf.keras.callbacks.ModelCheckpoint(\"makerere.h5\",save_weights_only=False,save_best_only=True,monitor=\"val_accuracy\")\n",
    "    model.fit(train_ds,epochs=20,validation_data=val_ds,callbacks=[checkpoint])\n",
    "    best = tf.keras.models.load_model(\"makerere.h5\")\n",
    "    val_loss,val_acc = best.evaluate(val_ds)\n",
    "    print(\"\\nVal Accuracy: {:.2f} %\".format(100*val_acc))\n",
    "    print(\"Val Loss: {:.2f} %\".format(100*val_loss))"
   ]
  },
  {
   "cell_type": "code",
   "execution_count": null,
   "id": "09a7bff6",
   "metadata": {},
   "outputs": [],
   "source": []
  }
 ],
 "metadata": {
  "kernelspec": {
   "display_name": "Python 3",
   "language": "python",
   "name": "python3"
  },
  "language_info": {
   "codemirror_mode": {
    "name": "ipython",
    "version": 3
   },
   "file_extension": ".py",
   "mimetype": "text/x-python",
   "name": "python",
   "nbconvert_exporter": "python",
   "pygments_lexer": "ipython3",
   "version": "3.8.10"
  }
 },
 "nbformat": 4,
 "nbformat_minor": 5
}
