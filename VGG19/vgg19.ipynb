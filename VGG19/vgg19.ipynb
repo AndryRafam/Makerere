{
 "cells": [
  {
   "cell_type": "code",
   "execution_count": 1,
   "id": "e89d8751",
   "metadata": {},
   "outputs": [],
   "source": [
    "import tensorflow as tf\n",
    "import numpy as np\n",
    "import random\n",
    "import pandas as pd\n",
    "\n",
    "from zipfile import ZipFile"
   ]
  },
  {
   "cell_type": "code",
   "execution_count": 2,
   "id": "6972b5a7",
   "metadata": {},
   "outputs": [
    {
     "name": "stdout",
     "output_type": "stream",
     "text": [
      "          Image_ID            class   xmin   ymin  width  height\n",
      "0  ID_007FAIEI.jpg  fruit_woodiness   87.0   87.5  228.0   311.0\n",
      "1  ID_00G8K1V3.jpg  fruit_brownspot   97.5   17.5  245.0   354.5\n",
      "2  ID_00WROUT9.jpg  fruit_brownspot  156.5  209.5  248.0   302.5\n",
      "3  ID_00ZJEEK3.jpg    fruit_healthy  125.0  193.0  254.5   217.0\n",
      "4  ID_018UIENR.jpg  fruit_brownspot   79.5  232.5  233.5   182.0\n"
     ]
    }
   ],
   "source": [
    "random.seed(42)\n",
    "np.random.seed(42)\n",
    "tf.random.set_seed(42)\n",
    "\n",
    "train_df = pd.read_csv(\"Train.csv\")\n",
    "test_df = pd.read_csv(\"Test.csv\")\n",
    "\n",
    "# add extension jpg to the file\n",
    "def addextension(nm):\n",
    "    return nm+\".jpg\"\n",
    "\n",
    "train_df[\"Image_ID\"] = train_df[\"Image_ID\"].apply(addextension)\n",
    "test_df[\"Image_ID\"] = test_df[\"Image_ID\"].apply(addextension)\n",
    "\n",
    "print(train_df.head())\n",
    "\n",
    "# extract zip file\n",
    "with ZipFile(\"Train_Images.zip\",\"r\") as zip:\n",
    "    zip.extractall()\n",
    "\n",
    "with ZipFile(\"Test_Images.zip\",\"r\") as zip:\n",
    "    zip.extractall()"
   ]
  },
  {
   "cell_type": "code",
   "execution_count": 3,
   "id": "07ff571f",
   "metadata": {},
   "outputs": [
    {
     "name": "stdout",
     "output_type": "stream",
     "text": [
      "Found 3125 validated image filenames belonging to 3 classes.\n",
      "Found 781 validated image filenames belonging to 3 classes.\n"
     ]
    }
   ],
   "source": [
    "from tensorflow.keras.preprocessing.image import ImageDataGenerator\n",
    "\n",
    "train_gen = ImageDataGenerator(\n",
    "    horizontal_flip = True,\n",
    "    rotation_range = 10,\n",
    "    zoom_range = 0.1,\n",
    "    validation_split = 0.2,\n",
    ")\n",
    "\n",
    "train_ds = train_gen.flow_from_dataframe(\n",
    "    directory = \"Train_Images\",\n",
    "    dataframe = train_df,\n",
    "    x_col = \"Image_ID\",\n",
    "    y_col = \"class\",\n",
    "    target_size = (256,256),\n",
    "    batch_size = 32,\n",
    "    class_mode = \"categorical\",\n",
    "    shuffle = True,\n",
    "    subset = \"training\",\n",
    ")\n",
    "\n",
    "val_ds = train_gen.flow_from_dataframe(\n",
    "    directory = \"Train_Images\",\n",
    "    dataframe = train_df,\n",
    "    x_col = \"Image_ID\",\n",
    "    y_col = \"class\",\n",
    "    target_size = (256,256),\n",
    "    batch_size = 32,\n",
    "    class_mode = \"categorical\",\n",
    "    shuffle = True,\n",
    "    subset = \"validation\",\n",
    ")"
   ]
  },
  {
   "cell_type": "markdown",
   "id": "10853033",
   "metadata": {},
   "source": [
    "### Build the model (Transfer VGG19 - Fine Tuning)"
   ]
  },
  {
   "cell_type": "code",
   "execution_count": 4,
   "id": "9793943c",
   "metadata": {},
   "outputs": [
    {
     "name": "stdout",
     "output_type": "stream",
     "text": [
      "Model: \"Transfer_VGG19\"\n",
      "_________________________________________________________________\n",
      " Layer (type)                Output Shape              Param #   \n",
      "=================================================================\n",
      " input_2 (InputLayer)        [(None, 256, 256, 3)]     0         \n",
      "                                                                 \n",
      " tf.__operators__.getitem (S  (None, 256, 256, 3)      0         \n",
      " licingOpLambda)                                                 \n",
      "                                                                 \n",
      " tf.nn.bias_add (TFOpLambda)  (None, 256, 256, 3)      0         \n",
      "                                                                 \n",
      " vgg19 (Functional)          (None, 8, 8, 512)         20024384  \n",
      "                                                                 \n",
      " global_average_pooling2d (G  (None, 512)              0         \n",
      " lobalAveragePooling2D)                                          \n",
      "                                                                 \n",
      " flatten (Flatten)           (None, 512)               0         \n",
      "                                                                 \n",
      " dense (Dense)               (None, 128)               65664     \n",
      "                                                                 \n",
      " dropout (Dropout)           (None, 128)               0         \n",
      "                                                                 \n",
      " dense_1 (Dense)             (None, 64)                8256      \n",
      "                                                                 \n",
      " dropout_1 (Dropout)         (None, 64)                0         \n",
      "                                                                 \n",
      " dense_2 (Dense)             (None, 3)                 195       \n",
      "                                                                 \n",
      "=================================================================\n",
      "Total params: 20,098,499\n",
      "Trainable params: 17,772,931\n",
      "Non-trainable params: 2,325,568\n",
      "_________________________________________________________________\n"
     ]
    }
   ],
   "source": [
    "rescale = tf.keras.applications.vgg19.preprocess_input\n",
    "base_model = tf.keras.applications.VGG19(input_shape=(256,256,3),include_top=False,weights=\"imagenet\")\n",
    "base_model.trainable = True\n",
    "\n",
    "for layer in base_model.layers:\n",
    "    if layer.name == \"block3_pool\":\n",
    "        break\n",
    "    layer.trainable = False\n",
    "\n",
    "class Transfer_VGG19():\n",
    "    def model(self,input):\n",
    "        self.x = rescale(input)\n",
    "        self.x = base_model(self.x,training=False)\n",
    "        self.x = tf.keras.layers.GlobalAveragePooling2D()(self.x)\n",
    "        self.x = tf.keras.layers.Flatten()(self.x)\n",
    "        self.x = tf.keras.layers.Dense(128,activation=\"relu\")(self.x)\n",
    "        self.x = tf.keras.layers.Dropout(0.2,seed=42)(self.x)\n",
    "        self.x = tf.keras.layers.Dense(64,activation=\"relu\")(self.x)\n",
    "        self.x = tf.keras.layers.Dropout(0.2,seed=42)(self.x)\n",
    "        self.output = tf.keras.layers.Dense(3,activation=\"softmax\")(self.x)\n",
    "        self.model = tf.keras.Model(input,self.output,name=\"Transfer_VGG19\")\n",
    "        return self.model\n",
    "\n",
    "TFVGG19 = Transfer_VGG19()\n",
    "model = TFVGG19.model(tf.keras.Input(shape=(256,256,3)))\n",
    "model.summary()\n",
    "model.compile(tf.keras.optimizers.RMSprop(1e-5),tf.keras.losses.CategoricalCrossentropy(),metrics=[\"accuracy\"])"
   ]
  },
  {
   "cell_type": "code",
   "execution_count": 5,
   "id": "4835564c",
   "metadata": {},
   "outputs": [
    {
     "name": "stdout",
     "output_type": "stream",
     "text": [
      "Epoch 1/10\n",
      "98/98 [==============================] - 98s 837ms/step - loss: 0.6550 - accuracy: 0.7469 - val_loss: 0.2431 - val_accuracy: 0.9219\n",
      "Epoch 2/10\n",
      "98/98 [==============================] - 69s 700ms/step - loss: 0.2533 - accuracy: 0.9098 - val_loss: 0.1204 - val_accuracy: 0.9641\n",
      "Epoch 3/10\n",
      "98/98 [==============================] - 69s 703ms/step - loss: 0.1425 - accuracy: 0.9514 - val_loss: 0.1117 - val_accuracy: 0.9654\n",
      "Epoch 4/10\n",
      "98/98 [==============================] - 69s 705ms/step - loss: 0.0950 - accuracy: 0.9661 - val_loss: 0.0826 - val_accuracy: 0.9718\n",
      "Epoch 5/10\n",
      "98/98 [==============================] - 70s 708ms/step - loss: 0.0781 - accuracy: 0.9773 - val_loss: 0.0528 - val_accuracy: 0.9795\n",
      "Epoch 6/10\n",
      "98/98 [==============================] - 70s 714ms/step - loss: 0.0532 - accuracy: 0.9818 - val_loss: 0.0578 - val_accuracy: 0.9808\n",
      "Epoch 7/10\n",
      "98/98 [==============================] - 70s 708ms/step - loss: 0.0475 - accuracy: 0.9850 - val_loss: 0.0605 - val_accuracy: 0.9834\n",
      "Epoch 8/10\n",
      "98/98 [==============================] - 70s 712ms/step - loss: 0.0376 - accuracy: 0.9888 - val_loss: 0.8513 - val_accuracy: 0.8041\n",
      "Epoch 9/10\n",
      "98/98 [==============================] - 71s 717ms/step - loss: 0.0410 - accuracy: 0.9862 - val_loss: 0.0463 - val_accuracy: 0.9821\n",
      "Epoch 10/10\n",
      "98/98 [==============================] - 70s 713ms/step - loss: 0.0294 - accuracy: 0.9923 - val_loss: 0.0392 - val_accuracy: 0.9898\n",
      "25/25 [==============================] - 10s 385ms/step - loss: 0.0511 - accuracy: 0.9859\n",
      "\n",
      "Val Accuracy: 98.59 %\n",
      "Val Loss: 5.11 %\n"
     ]
    }
   ],
   "source": [
    "if __name__==\"__main__\":\n",
    "    checkpoint = tf.keras.callbacks.ModelCheckpoint(\"makerere.h5\",save_weights_only=False,save_best_only=True)\n",
    "    model.fit(train_ds,epochs=10,validation_data=val_ds,callbacks=[checkpoint])\n",
    "    best = tf.keras.models.load_model(\"makerere.h5\")\n",
    "    val_loss,val_acc = best.evaluate(val_ds)\n",
    "    print(\"\\nVal Accuracy: {:.2f} %\".format(100*val_acc))\n",
    "    print(\"Val Loss: {:.2f} %\".format(100*val_loss))"
   ]
  },
  {
   "cell_type": "code",
   "execution_count": null,
   "id": "1936a78f",
   "metadata": {},
   "outputs": [],
   "source": []
  }
 ],
 "metadata": {
  "kernelspec": {
   "display_name": "Python 3",
   "language": "python",
   "name": "python3"
  },
  "language_info": {
   "codemirror_mode": {
    "name": "ipython",
    "version": 3
   },
   "file_extension": ".py",
   "mimetype": "text/x-python",
   "name": "python",
   "nbconvert_exporter": "python",
   "pygments_lexer": "ipython3",
   "version": "3.8.10"
  }
 },
 "nbformat": 4,
 "nbformat_minor": 5
}
