{
 "cells": [
  {
   "cell_type": "code",
   "execution_count": 1,
   "id": "f5619e61",
   "metadata": {},
   "outputs": [
    {
     "name": "stdout",
     "output_type": "stream",
     "text": [
      "          Image_ID            class   xmin   ymin  width  height\n",
      "0  ID_007FAIEI.jpg  fruit_woodiness   87.0   87.5  228.0   311.0\n",
      "1  ID_00G8K1V3.jpg  fruit_brownspot   97.5   17.5  245.0   354.5\n",
      "2  ID_00WROUT9.jpg  fruit_brownspot  156.5  209.5  248.0   302.5\n",
      "3  ID_00ZJEEK3.jpg    fruit_healthy  125.0  193.0  254.5   217.0\n",
      "4  ID_018UIENR.jpg  fruit_brownspot   79.5  232.5  233.5   182.0\n"
     ]
    }
   ],
   "source": [
    "import pandas as pd\n",
    "from zipfile import ZipFile\n",
    "\n",
    "train_df = pd.read_csv(\"Train.csv\")\n",
    "test_df = pd.read_csv(\"Test.csv\")\n",
    "\n",
    "def addextension(nm):\n",
    "    return nm+\".jpg\"\n",
    "\n",
    "train_df.Image_ID = train_df.Image_ID.apply(addextension)\n",
    "test_df.Image_ID = test_df.Image_ID.apply(addextension)\n",
    "\n",
    "print(train_df.head())"
   ]
  },
  {
   "cell_type": "code",
   "execution_count": 2,
   "id": "a7a0edb7",
   "metadata": {},
   "outputs": [],
   "source": [
    "def unzip(nm):\n",
    "    with ZipFile(nm,\"r\") as zip:\n",
    "        zip.extractall()\n",
    "\n",
    "unzip(\"Train_Images.zip\")\n",
    "unzip(\"Test_Images.zip\")"
   ]
  },
  {
   "cell_type": "code",
   "execution_count": 3,
   "id": "d2f24199",
   "metadata": {},
   "outputs": [
    {
     "name": "stdout",
     "output_type": "stream",
     "text": [
      "Found 3125 validated image filenames belonging to 3 classes.\n",
      "Found 781 validated image filenames belonging to 3 classes.\n"
     ]
    }
   ],
   "source": [
    "from tensorflow.keras.preprocessing.image import ImageDataGenerator\n",
    "\n",
    "train_gen = ImageDataGenerator(\n",
    "    horizontal_flip = True,\n",
    "    rotation_range = 10,\n",
    "    zoom_range = 0.1,\n",
    "    validation_split = 0.2,\n",
    ")\n",
    "\n",
    "train_ds = train_gen.flow_from_dataframe(\n",
    "    directory = \"Train_Images\",\n",
    "    dataframe = train_df,\n",
    "    x_col = \"Image_ID\",\n",
    "    y_col = \"class\",\n",
    "    target_size = (256,256),\n",
    "    batch_size = 32,\n",
    "    class_mode = \"categorical\",\n",
    "    shuffle = True,\n",
    "    subset = \"training\",\n",
    ")\n",
    "\n",
    "val_ds = train_gen.flow_from_dataframe(\n",
    "    directory = \"Train_Images\",\n",
    "    dataframe = train_df,\n",
    "    x_col = \"Image_ID\",\n",
    "    y_col = \"class\",\n",
    "    target_size = (256,256),\n",
    "    batch_size = 32,\n",
    "    class_mode = \"categorical\",\n",
    "    shuffle = True,\n",
    "    subset = \"validation\",\n",
    ")"
   ]
  },
  {
   "cell_type": "code",
   "execution_count": 4,
   "id": "23913151",
   "metadata": {},
   "outputs": [
    {
     "name": "stdout",
     "output_type": "stream",
     "text": [
      "Model: \"Transfer_DenseNet201\"\n",
      "_________________________________________________________________\n",
      "Layer (type)                 Output Shape              Param #   \n",
      "=================================================================\n",
      "input_2 (InputLayer)         [(None, 256, 256, 3)]     0         \n",
      "_________________________________________________________________\n",
      "tf.math.truediv (TFOpLambda) (None, 256, 256, 3)       0         \n",
      "_________________________________________________________________\n",
      "tf.nn.bias_add (TFOpLambda)  (None, 256, 256, 3)       0         \n",
      "_________________________________________________________________\n",
      "tf.math.truediv_1 (TFOpLambd (None, 256, 256, 3)       0         \n",
      "_________________________________________________________________\n",
      "densenet201 (Functional)     (None, 8, 8, 1920)        18321984  \n",
      "_________________________________________________________________\n",
      "global_average_pooling2d (Gl (None, 1920)              0         \n",
      "_________________________________________________________________\n",
      "dropout (Dropout)            (None, 1920)              0         \n",
      "_________________________________________________________________\n",
      "dense (Dense)                (None, 3)                 5763      \n",
      "=================================================================\n",
      "Total params: 18,327,747\n",
      "Trainable params: 5,763\n",
      "Non-trainable params: 18,321,984\n",
      "_________________________________________________________________\n"
     ]
    }
   ],
   "source": [
    "from tensorflow.keras.applications import densenet, DenseNet201\n",
    "from tensorflow.keras.layers import GlobalAveragePooling2D, Dropout, Dense\n",
    "from tensorflow.keras import Model, Input\n",
    "from tensorflow.keras.optimizers import RMSprop\n",
    "from tensorflow.keras.losses import CategoricalCrossentropy\n",
    "\n",
    "rescale = densenet.preprocess_input\n",
    "base_model = DenseNet201(input_shape=(256,256,3),include_top=False,weights=\"imagenet\")\n",
    "base_model.trainable = False\n",
    "\n",
    "class Transfer_DenseNet201():\n",
    "    def model(self,input):\n",
    "        self.x = rescale(input)\n",
    "        self.x = base_model(self.x,training=False)\n",
    "        self.x = GlobalAveragePooling2D()(self.x)\n",
    "        self.x = Dropout(0.2,seed=42)(self.x)\n",
    "        self.output = Dense(3,activation=\"softmax\")(self.x)\n",
    "        self.model = Model(input,self.output,name=\"Transfer_DenseNet201\")\n",
    "        return self.model\n",
    "\n",
    "TFDES201 = Transfer_DenseNet201()\n",
    "model = TFDES201.model(Input(shape=(256,256,3)))\n",
    "model.compile(RMSprop(),CategoricalCrossentropy(),metrics=[\"accuracy\"])\n",
    "model.summary()"
   ]
  },
  {
   "cell_type": "code",
   "execution_count": 5,
   "id": "8c71cbe8",
   "metadata": {},
   "outputs": [
    {
     "name": "stdout",
     "output_type": "stream",
     "text": [
      "Epoch 1/7\n",
      "98/98 [==============================] - 73s 603ms/step - loss: 0.6109 - accuracy: 0.7600 - val_loss: 0.3734 - val_accuracy: 0.8732\n",
      "Epoch 2/7\n",
      "98/98 [==============================] - 50s 513ms/step - loss: 0.2736 - accuracy: 0.9168 - val_loss: 0.2060 - val_accuracy: 0.9347\n",
      "Epoch 3/7\n",
      "98/98 [==============================] - 53s 540ms/step - loss: 0.2038 - accuracy: 0.9357 - val_loss: 0.1601 - val_accuracy: 0.9501\n",
      "Epoch 4/7\n",
      "98/98 [==============================] - 51s 517ms/step - loss: 0.1637 - accuracy: 0.9504 - val_loss: 0.1428 - val_accuracy: 0.9539\n",
      "Epoch 5/7\n",
      "98/98 [==============================] - 50s 506ms/step - loss: 0.1445 - accuracy: 0.9536 - val_loss: 0.1227 - val_accuracy: 0.9616\n",
      "Epoch 6/7\n",
      "98/98 [==============================] - 51s 521ms/step - loss: 0.1335 - accuracy: 0.9533 - val_loss: 0.1175 - val_accuracy: 0.9680\n",
      "Epoch 7/7\n",
      "98/98 [==============================] - 49s 495ms/step - loss: 0.1246 - accuracy: 0.9616 - val_loss: 0.1032 - val_accuracy: 0.9731\n",
      "25/25 [==============================] - 12s 368ms/step - loss: 0.1155 - accuracy: 0.9629\n",
      "\n",
      "Val Accuracy: 96.29 %\n",
      "Val Loss: 11.55 %\n"
     ]
    }
   ],
   "source": [
    "from tensorflow.keras.callbacks import ModelCheckpoint\n",
    "from tensorflow.keras.models import load_model\n",
    "\n",
    "\n",
    "if __name__==\"__main__\":\n",
    "    checkpoint = [\n",
    "        ModelCheckpoint(\"makerere.hdf5\",save_weights_only=False,save_best_only=True,monitor=\"val_accuracy\")\n",
    "    ]\n",
    "    model.fit(train_ds,epochs=7,validation_data=val_ds,callbacks=checkpoint)\n",
    "    best = load_model(\"makerere.hdf5\")\n",
    "    val_loss,val_acc = best.evaluate(val_ds)\n",
    "    print(\"\\nVal Accuracy: {:.2f} %\".format(100*val_acc))\n",
    "    print(\"Val Loss: {:.2f} %\".format(100*val_loss))"
   ]
  },
  {
   "cell_type": "code",
   "execution_count": null,
   "id": "b3d07fd2",
   "metadata": {},
   "outputs": [],
   "source": []
  }
 ],
 "metadata": {
  "kernelspec": {
   "display_name": "Python 3",
   "language": "python",
   "name": "python3"
  },
  "language_info": {
   "codemirror_mode": {
    "name": "ipython",
    "version": 3
   },
   "file_extension": ".py",
   "mimetype": "text/x-python",
   "name": "python",
   "nbconvert_exporter": "python",
   "pygments_lexer": "ipython3",
   "version": "3.8.10"
  }
 },
 "nbformat": 4,
 "nbformat_minor": 5
}
