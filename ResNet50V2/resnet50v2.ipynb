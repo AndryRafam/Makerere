{
 "cells": [
  {
   "cell_type": "code",
   "execution_count": 1,
   "id": "ce933854",
   "metadata": {},
   "outputs": [],
   "source": [
    "import tensorflow as tf\n",
    "import numpy as np\n",
    "import random\n",
    "import pandas as pd\n",
    "\n",
    "from zipfile import ZipFile\n",
    "\n",
    "random.seed(42)\n",
    "np.random.seed(42)\n",
    "tf.random.set_seed(42)"
   ]
  },
  {
   "cell_type": "code",
   "execution_count": 2,
   "id": "b98e656f",
   "metadata": {},
   "outputs": [
    {
     "name": "stdout",
     "output_type": "stream",
     "text": [
      "          Image_ID            class   xmin   ymin  width  height\n",
      "0  ID_007FAIEI.jpg  fruit_woodiness   87.0   87.5  228.0   311.0\n",
      "1  ID_00G8K1V3.jpg  fruit_brownspot   97.5   17.5  245.0   354.5\n",
      "2  ID_00WROUT9.jpg  fruit_brownspot  156.5  209.5  248.0   302.5\n",
      "3  ID_00ZJEEK3.jpg    fruit_healthy  125.0  193.0  254.5   217.0\n",
      "4  ID_018UIENR.jpg  fruit_brownspot   79.5  232.5  233.5   182.0\n"
     ]
    }
   ],
   "source": [
    "train_df = pd.read_csv(\"Train.csv\")\n",
    "test_df = pd.read_csv(\"Test.csv\")\n",
    "\n",
    "def addextension(nm):\n",
    "    return nm+\".jpg\"\n",
    "\n",
    "train_df.Image_ID = train_df.Image_ID.apply(addextension)\n",
    "test_df.Image_ID = test_df.Image_ID.apply(addextension)\n",
    "\n",
    "print(train_df.head())\n",
    "\n",
    "def unzip(nm):\n",
    "    with ZipFile(nm,\"r\") as zip:\n",
    "        zip.extractall()\n",
    "\n",
    "unzip(\"Train_Images.zip\")\n",
    "unzip(\"Test_Images.zip\")"
   ]
  },
  {
   "cell_type": "code",
   "execution_count": 3,
   "id": "ab5b3c07",
   "metadata": {},
   "outputs": [
    {
     "name": "stdout",
     "output_type": "stream",
     "text": [
      "Found 3125 validated image filenames belonging to 3 classes.\n",
      "Found 781 validated image filenames belonging to 3 classes.\n"
     ]
    }
   ],
   "source": [
    "from tensorflow.keras.preprocessing.image import ImageDataGenerator\n",
    "\n",
    "train_gen = ImageDataGenerator(\n",
    "    horizontal_flip = True,\n",
    "    rotation_range = 10,\n",
    "    zoom_range = 0.1,\n",
    "    validation_split = 0.2,\n",
    ")\n",
    "\n",
    "train_ds = train_gen.flow_from_dataframe(\n",
    "    directory = \"Train_Images\",\n",
    "    dataframe = train_df,\n",
    "    x_col = \"Image_ID\",\n",
    "    y_col = \"class\",\n",
    "    target_size = (256,256),\n",
    "    batch_size = 32,\n",
    "    class_mode = \"categorical\",\n",
    "    shuffle = True,\n",
    "    subset = \"training\",\n",
    ")\n",
    "\n",
    "val_ds = train_gen.flow_from_dataframe(\n",
    "    directory = \"Train_Images\",\n",
    "    dataframe = train_df,\n",
    "    x_col = \"Image_ID\",\n",
    "    y_col = \"class\",\n",
    "    target_size = (256,256),\n",
    "    batch_size = 32,\n",
    "    class_mode = \"categorical\",\n",
    "    shuffle = True,\n",
    "    subset = \"validation\",\n",
    ")"
   ]
  },
  {
   "cell_type": "markdown",
   "id": "137b1c2f",
   "metadata": {},
   "source": [
    "### Model = Transfer ResNet50V2 (Transfer Learning Feature Extraction)"
   ]
  },
  {
   "cell_type": "code",
   "execution_count": 4,
   "id": "653c0ebf",
   "metadata": {},
   "outputs": [
    {
     "name": "stdout",
     "output_type": "stream",
     "text": [
      "Model: \"Transfer_ResNet50V2\"\n",
      "_________________________________________________________________\n",
      "Layer (type)                 Output Shape              Param #   \n",
      "=================================================================\n",
      "input_2 (InputLayer)         [(None, 256, 256, 3)]     0         \n",
      "_________________________________________________________________\n",
      "tf.math.truediv (TFOpLambda) (None, 256, 256, 3)       0         \n",
      "_________________________________________________________________\n",
      "tf.math.subtract (TFOpLambda (None, 256, 256, 3)       0         \n",
      "_________________________________________________________________\n",
      "resnet50v2 (Functional)      (None, 8, 8, 2048)        23564800  \n",
      "_________________________________________________________________\n",
      "global_average_pooling2d (Gl (None, 2048)              0         \n",
      "_________________________________________________________________\n",
      "dropout (Dropout)            (None, 2048)              0         \n",
      "_________________________________________________________________\n",
      "dense (Dense)                (None, 3)                 6147      \n",
      "=================================================================\n",
      "Total params: 23,570,947\n",
      "Trainable params: 6,147\n",
      "Non-trainable params: 23,564,800\n",
      "_________________________________________________________________\n",
      "Model: \"Transfer_ResNet50V2\"\n",
      "_________________________________________________________________\n",
      "Layer (type)                 Output Shape              Param #   \n",
      "=================================================================\n",
      "input_2 (InputLayer)         [(None, 256, 256, 3)]     0         \n",
      "_________________________________________________________________\n",
      "tf.math.truediv (TFOpLambda) (None, 256, 256, 3)       0         \n",
      "_________________________________________________________________\n",
      "tf.math.subtract (TFOpLambda (None, 256, 256, 3)       0         \n",
      "_________________________________________________________________\n",
      "resnet50v2 (Functional)      (None, 8, 8, 2048)        23564800  \n",
      "_________________________________________________________________\n",
      "global_average_pooling2d (Gl (None, 2048)              0         \n",
      "_________________________________________________________________\n",
      "dropout (Dropout)            (None, 2048)              0         \n",
      "_________________________________________________________________\n",
      "dense (Dense)                (None, 3)                 6147      \n",
      "=================================================================\n",
      "Total params: 23,570,947\n",
      "Trainable params: 6,147\n",
      "Non-trainable params: 23,564,800\n",
      "_________________________________________________________________\n"
     ]
    }
   ],
   "source": [
    "rescale = tf.keras.applications.resnet_v2.preprocess_input\n",
    "base_model = tf.keras.applications.ResNet50V2(input_shape=(256,256,3),include_top=False,weights=\"imagenet\")\n",
    "base_model.trainable = False\n",
    "\n",
    "class Transfer_ResNet50V2():\n",
    "    def model(self,input):\n",
    "        self.x = rescale(input)\n",
    "        self.x = base_model(self.x,training=False)\n",
    "        self.x = tf.keras.layers.GlobalAveragePooling2D()(self.x)\n",
    "        self.x = tf.keras.layers.Dropout(0.2,seed=42)(self.x)\n",
    "        self.output = tf.keras.layers.Dense(3,activation=\"softmax\")(self.x)\n",
    "        self.model = tf.keras.Model(input,self.output,name=\"Transfer_ResNet50V2\")\n",
    "        return self.model\n",
    "\n",
    "TFRES50V2 = Transfer_ResNet50V2()\n",
    "model = TFRES50V2.model(tf.keras.Input(shape=(256,256,3)))\n",
    "model.summary()\n",
    "model.compile(tf.keras.optimizers.RMSprop(),tf.keras.losses.CategoricalCrossentropy(),metrics=[\"accuracy\"])\n",
    "model.summary()"
   ]
  },
  {
   "cell_type": "code",
   "execution_count": 5,
   "id": "d369b0fb",
   "metadata": {},
   "outputs": [
    {
     "name": "stdout",
     "output_type": "stream",
     "text": [
      "Epoch 1/10\n",
      "98/98 [==============================] - 54s 498ms/step - loss: 0.4431 - accuracy: 0.8272 - val_loss: 0.2695 - val_accuracy: 0.9078\n"
     ]
    },
    {
     "name": "stderr",
     "output_type": "stream",
     "text": [
      "/home/maverick/.local/lib/python3.8/site-packages/keras/utils/generic_utils.py:494: CustomMaskWarning: Custom mask layers require a config and must override get_config. When loading, the custom mask layer must be passed to the custom_objects argument.\n",
      "  warnings.warn('Custom mask layers require a config and must override '\n"
     ]
    },
    {
     "name": "stdout",
     "output_type": "stream",
     "text": [
      "Epoch 2/10\n",
      "98/98 [==============================] - 45s 461ms/step - loss: 0.2481 - accuracy: 0.9040 - val_loss: 0.1822 - val_accuracy: 0.9309\n",
      "Epoch 3/10\n",
      "98/98 [==============================] - 46s 473ms/step - loss: 0.2017 - accuracy: 0.9302 - val_loss: 0.1508 - val_accuracy: 0.9373\n",
      "Epoch 4/10\n",
      "98/98 [==============================] - 46s 471ms/step - loss: 0.1649 - accuracy: 0.9434 - val_loss: 0.1362 - val_accuracy: 0.9501\n",
      "Epoch 5/10\n",
      "98/98 [==============================] - 47s 478ms/step - loss: 0.1543 - accuracy: 0.9488 - val_loss: 0.1179 - val_accuracy: 0.9590\n",
      "Epoch 6/10\n",
      "98/98 [==============================] - 48s 494ms/step - loss: 0.1316 - accuracy: 0.9507 - val_loss: 0.1339 - val_accuracy: 0.9475\n",
      "Epoch 7/10\n",
      "98/98 [==============================] - 48s 493ms/step - loss: 0.1311 - accuracy: 0.9514 - val_loss: 0.1171 - val_accuracy: 0.9629\n",
      "Epoch 8/10\n",
      "98/98 [==============================] - 47s 482ms/step - loss: 0.1204 - accuracy: 0.9590 - val_loss: 0.1235 - val_accuracy: 0.9680\n",
      "Epoch 9/10\n",
      "98/98 [==============================] - 47s 482ms/step - loss: 0.1116 - accuracy: 0.9565 - val_loss: 0.1178 - val_accuracy: 0.9590\n",
      "Epoch 10/10\n",
      "98/98 [==============================] - 47s 481ms/step - loss: 0.1112 - accuracy: 0.9606 - val_loss: 0.1061 - val_accuracy: 0.9590\n",
      "25/25 [==============================] - 10s 378ms/step - loss: 0.1171 - accuracy: 0.9526\n",
      "\n",
      "Val Accuracy: 95.26 %\n",
      "Val Loss: 11.71 %\n"
     ]
    }
   ],
   "source": [
    "if __name__==\"__main__\":\n",
    "    checkpoint = tf.keras.callbacks.ModelCheckpoint(\"makerere.hdf5\",save_weights_only=False,save_best_only=True,monitor=\"val_loss\")\n",
    "    model.fit(train_ds,epochs=10,validation_data=val_ds,callbacks=[checkpoint])\n",
    "    best = tf.keras.models.load_model(\"makerere.hdf5\")\n",
    "    val_loss,val_acc = best.evaluate(val_ds)\n",
    "    print(\"\\nVal Accuracy: {:.2f} %\".format(100*val_acc))\n",
    "    print(\"Val Loss: {:.2f} %\".format(100*val_loss))"
   ]
  },
  {
   "cell_type": "code",
   "execution_count": null,
   "id": "ef1ccbe7",
   "metadata": {},
   "outputs": [],
   "source": []
  }
 ],
 "metadata": {
  "kernelspec": {
   "display_name": "Python 3",
   "language": "python",
   "name": "python3"
  },
  "language_info": {
   "codemirror_mode": {
    "name": "ipython",
    "version": 3
   },
   "file_extension": ".py",
   "mimetype": "text/x-python",
   "name": "python",
   "nbconvert_exporter": "python",
   "pygments_lexer": "ipython3",
   "version": "3.8.10"
  }
 },
 "nbformat": 4,
 "nbformat_minor": 5
}
