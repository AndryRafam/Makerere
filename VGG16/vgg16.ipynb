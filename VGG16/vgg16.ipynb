{
 "cells": [
  {
   "cell_type": "code",
   "execution_count": 1,
   "id": "cd9dff86",
   "metadata": {},
   "outputs": [],
   "source": [
    "import tensorflow as tf\n",
    "import numpy as np\n",
    "import random\n",
    "import pandas as pd\n",
    "\n",
    "from zipfile import ZipFile\n",
    "\n",
    "random.seed(42)\n",
    "np.random.seed(42)\n",
    "tf.random.set_seed(42)"
   ]
  },
  {
   "cell_type": "code",
   "execution_count": 2,
   "id": "7f2c6016",
   "metadata": {},
   "outputs": [
    {
     "name": "stdout",
     "output_type": "stream",
     "text": [
      "          Image_ID            class   xmin   ymin  width  height\n",
      "0  ID_007FAIEI.jpg  fruit_woodiness   87.0   87.5  228.0   311.0\n",
      "1  ID_00G8K1V3.jpg  fruit_brownspot   97.5   17.5  245.0   354.5\n",
      "2  ID_00WROUT9.jpg  fruit_brownspot  156.5  209.5  248.0   302.5\n",
      "3  ID_00ZJEEK3.jpg    fruit_healthy  125.0  193.0  254.5   217.0\n",
      "4  ID_018UIENR.jpg  fruit_brownspot   79.5  232.5  233.5   182.0\n"
     ]
    }
   ],
   "source": [
    "train_df = pd.read_csv(\"Train.csv\")\n",
    "test_df = pd.read_csv(\"Test.csv\")\n",
    "\n",
    "# add extension to the file names\n",
    "def addextension(nm):\n",
    "    return nm+\".jpg\"\n",
    "\n",
    "train_df[\"Image_ID\"] = train_df[\"Image_ID\"].apply(addextension)\n",
    "test_df[\"Image_ID\"] = test_df[\"Image_ID\"].apply(addextension)\n",
    "\n",
    "print(train_df.head())\n",
    "\n",
    "# unzip Train_Images and Test_Images\n",
    "def unzip(nm):\n",
    "    with ZipFile(nm,\"r\") as zip:\n",
    "        zip.extractall()\n",
    "\n",
    "unzip(\"Train_Images.zip\")\n",
    "unzip(\"Test_Images.zip\")"
   ]
  },
  {
   "cell_type": "code",
   "execution_count": 3,
   "id": "439f91b2",
   "metadata": {},
   "outputs": [
    {
     "name": "stdout",
     "output_type": "stream",
     "text": [
      "Found 3125 validated image filenames belonging to 3 classes.\n",
      "Found 781 validated image filenames belonging to 3 classes.\n"
     ]
    }
   ],
   "source": [
    "from tensorflow.keras.preprocessing.image import ImageDataGenerator\n",
    "\n",
    "train_gen = ImageDataGenerator(\n",
    "    horizontal_flip = True,\n",
    "    rotation_range = 10,\n",
    "    zoom_range = 0.1,\n",
    "    validation_split = 0.2,\n",
    ")\n",
    "\n",
    "train_ds = train_gen.flow_from_dataframe(\n",
    "    directory = \"Train_Images\",\n",
    "    dataframe = train_df,\n",
    "    x_col = \"Image_ID\",\n",
    "    y_col = \"class\",\n",
    "    target_size = (256,256),\n",
    "    batch_size = 32,\n",
    "    class_mode = \"categorical\",\n",
    "    shuffle = True,\n",
    "    subset = \"training\",\n",
    ")\n",
    "\n",
    "val_ds = train_gen.flow_from_dataframe(\n",
    "    directory = \"Train_Images\",\n",
    "    dataframe = train_df,\n",
    "    x_col = \"Image_ID\",\n",
    "    y_col = \"class\",\n",
    "    target_size = (256,256),\n",
    "    batch_size = 32,\n",
    "    class_mode = \"categorical\",\n",
    "    shuffle = True,\n",
    "    subset = \"validation\",\n",
    ")"
   ]
  },
  {
   "cell_type": "markdown",
   "id": "010d2174",
   "metadata": {},
   "source": [
    "### Model = Transfer_VGG16 (Transfer Learning - Fine Tuning)"
   ]
  },
  {
   "cell_type": "code",
   "execution_count": 4,
   "id": "b23c76cd",
   "metadata": {},
   "outputs": [
    {
     "name": "stdout",
     "output_type": "stream",
     "text": [
      "Model: \"Transfer_VGG16\"\n",
      "_________________________________________________________________\n",
      "Layer (type)                 Output Shape              Param #   \n",
      "=================================================================\n",
      "input_2 (InputLayer)         [(None, 256, 256, 3)]     0         \n",
      "_________________________________________________________________\n",
      "tf.__operators__.getitem (Sl (None, 256, 256, 3)       0         \n",
      "_________________________________________________________________\n",
      "tf.nn.bias_add (TFOpLambda)  (None, 256, 256, 3)       0         \n",
      "_________________________________________________________________\n",
      "vgg16 (Functional)           (None, 8, 8, 512)         14714688  \n",
      "_________________________________________________________________\n",
      "global_average_pooling2d (Gl (None, 512)               0         \n",
      "_________________________________________________________________\n",
      "flatten (Flatten)            (None, 512)               0         \n",
      "_________________________________________________________________\n",
      "dense (Dense)                (None, 128)               65664     \n",
      "_________________________________________________________________\n",
      "dropout (Dropout)            (None, 128)               0         \n",
      "_________________________________________________________________\n",
      "dense_1 (Dense)              (None, 64)                8256      \n",
      "_________________________________________________________________\n",
      "dropout_1 (Dropout)          (None, 64)                0         \n",
      "_________________________________________________________________\n",
      "dense_2 (Dense)              (None, 3)                 195       \n",
      "=================================================================\n",
      "Total params: 14,788,803\n",
      "Trainable params: 13,053,315\n",
      "Non-trainable params: 1,735,488\n",
      "_________________________________________________________________\n"
     ]
    }
   ],
   "source": [
    "rescale = tf.keras.applications.vgg16.preprocess_input\n",
    "base_model = tf.keras.applications.VGG16(input_shape=(256,256,3),include_top=False,weights=\"imagenet\")\n",
    "base_model.trainable = True\n",
    "\n",
    "fine_tune_at = 10\n",
    "\n",
    "for layer in base_model.layers[:fine_tune_at]:\n",
    "    layer.trainable = False\n",
    "\n",
    "class Transfer_VGG16():\n",
    "    def model(self,input):\n",
    "        self.x = rescale(input)\n",
    "        self.x = base_model(self.x,training=False)\n",
    "        self.x = tf.keras.layers.GlobalAveragePooling2D()(self.x)\n",
    "        self.x = tf.keras.layers.Flatten()(self.x)\n",
    "        self.x = tf.keras.layers.Dense(128,activation=\"relu\")(self.x)\n",
    "        self.x = tf.keras.layers.Dropout(0.2,seed=42)(self.x)\n",
    "        self.x = tf.keras.layers.Dense(64,activation=\"relu\")(self.x)\n",
    "        self.x = tf.keras.layers.Dropout(0.2,seed=42)(self.x)\n",
    "        self.output = tf.keras.layers.Dense(3,activation=\"softmax\")(self.x)\n",
    "        self.model = tf.keras.Model(input,self.output,name=\"Transfer_VGG16\")\n",
    "        return self.model\n",
    "\n",
    "TFVGG16 = Transfer_VGG16()\n",
    "model = TFVGG16.model(tf.keras.Input(shape=(256,256,3)))\n",
    "model.compile(tf.keras.optimizers.RMSprop(1e-5),tf.keras.losses.CategoricalCrossentropy(),metrics=[\"accuracy\"])\n",
    "model.summary()"
   ]
  },
  {
   "cell_type": "markdown",
   "id": "50df50ca",
   "metadata": {},
   "source": [
    "### Train and evaluate the model"
   ]
  },
  {
   "cell_type": "code",
   "execution_count": 5,
   "id": "d4d42100",
   "metadata": {},
   "outputs": [
    {
     "name": "stdout",
     "output_type": "stream",
     "text": [
      "Epoch 1/10\n",
      "98/98 [==============================] - 87s 729ms/step - loss: 0.6209 - accuracy: 0.7824 - val_loss: 0.2420 - val_accuracy: 0.8963\n",
      "Epoch 2/10\n",
      "98/98 [==============================] - 57s 575ms/step - loss: 0.2093 - accuracy: 0.9280 - val_loss: 0.1169 - val_accuracy: 0.9565\n",
      "Epoch 3/10\n",
      "98/98 [==============================] - 58s 586ms/step - loss: 0.1336 - accuracy: 0.9562 - val_loss: 0.1092 - val_accuracy: 0.9654\n",
      "Epoch 4/10\n",
      "98/98 [==============================] - 58s 586ms/step - loss: 0.0757 - accuracy: 0.9763 - val_loss: 0.0817 - val_accuracy: 0.9706\n",
      "Epoch 5/10\n",
      "98/98 [==============================] - 57s 582ms/step - loss: 0.0707 - accuracy: 0.9779 - val_loss: 0.0874 - val_accuracy: 0.9680\n",
      "Epoch 6/10\n",
      "98/98 [==============================] - 60s 607ms/step - loss: 0.0523 - accuracy: 0.9834 - val_loss: 0.0826 - val_accuracy: 0.9706\n",
      "Epoch 7/10\n",
      "98/98 [==============================] - 60s 609ms/step - loss: 0.0364 - accuracy: 0.9904 - val_loss: 0.0597 - val_accuracy: 0.9808\n",
      "Epoch 8/10\n",
      "98/98 [==============================] - 58s 591ms/step - loss: 0.0308 - accuracy: 0.9901 - val_loss: 0.1492 - val_accuracy: 0.9744\n",
      "Epoch 9/10\n",
      "98/98 [==============================] - 59s 598ms/step - loss: 0.0263 - accuracy: 0.9936 - val_loss: 0.0555 - val_accuracy: 0.9808\n",
      "Epoch 10/10\n",
      "98/98 [==============================] - 58s 585ms/step - loss: 0.0243 - accuracy: 0.9936 - val_loss: 0.0513 - val_accuracy: 0.9872\n",
      "25/25 [==============================] - 11s 403ms/step - loss: 0.0519 - accuracy: 0.9834\n",
      "\n",
      "Val Accuracy: 98.34 %\n",
      "Val Loss: 5.19 %\n"
     ]
    }
   ],
   "source": [
    "if __name__==\"__main__\":\n",
    "    checkpoint = tf.keras.callbacks.ModelCheckpoint(\"makerere.hdf5\",save_weights_only=False,save_best_only=True,monitor=\"val_accuracy\")\n",
    "    model.fit(train_ds,epochs=10,validation_data=val_ds,callbacks=[checkpoint])\n",
    "    best = tf.keras.models.load_model(\"makerere.hdf5\")\n",
    "    val_loss,val_acc = best.evaluate(val_ds)\n",
    "    print(\"\\nVal Accuracy: {:.2f} %\".format(100*val_acc))\n",
    "    print(\"Val Loss: {:.2f} %\".format(100*val_loss))"
   ]
  },
  {
   "cell_type": "code",
   "execution_count": null,
   "id": "c97bb8b7",
   "metadata": {},
   "outputs": [],
   "source": []
  }
 ],
 "metadata": {
  "kernelspec": {
   "display_name": "Python 3",
   "language": "python",
   "name": "python3"
  },
  "language_info": {
   "codemirror_mode": {
    "name": "ipython",
    "version": 3
   },
   "file_extension": ".py",
   "mimetype": "text/x-python",
   "name": "python",
   "nbconvert_exporter": "python",
   "pygments_lexer": "ipython3",
   "version": "3.8.10"
  }
 },
 "nbformat": 4,
 "nbformat_minor": 5
}
